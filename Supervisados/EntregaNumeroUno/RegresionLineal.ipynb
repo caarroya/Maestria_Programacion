{
 "cells": [
  {
   "cell_type": "markdown",
   "metadata": {
    "deletable": true,
    "editable": true
   },
   "source": [
    "## Basis Function Regression\n",
    "\n",
    "Este ejercio toma como base la informacion del rendimiento de estudiantes para la asignatura de Matematicas.\n",
    "Las fuentes de informacion tomadas sera desde el portal \n",
    "https://archive.ics.uci.edu/dataset/320/student+performance\n",
    "\n",
    "Si se desea descarga la fuente, puede lanzar el siguiente codigo en python.\n",
    "from ucimlrepo import fetch_ucirepo \n",
    "pip install ucimlrepo\n",
    "student_performance = fetch_ucirepo(id=320)  \n",
    "X = student_performance.data.features \n",
    "y = student_performance.data.targets   \n",
    "print(student_performance.metadata) \n",
    "print(student_performance.variables) \n",
    "\n",
    "\n",
    "\n",
    "\n",
    "$$\n",
    "y = a_0 + a_1 x_1 + a_2 x_2 + a_3 x_3 + \\cdots\n",
    "$$\n",
    "and build the $x_1, x_2, x_3,$ and so on, from our single-dimensional input $x$.\n",
    "That is, we let $x_n = f_n(x)$, where $f_n()$ is some function that transforms our data.\n",
    "\n",
    "For example, if $f_n(x) = x^n$, our model becomes a polynomial regression:\n",
    "$$\n",
    "y = a_0 + a_1 x + a_2 x^2 + a_3 x^3 + \\cdots\n",
    "$$\n",
    "Notice that this is *still a linear model*—the linearity refers to the fact that the coefficients $a_n$ never multiply or divide each other.\n",
    "What we have effectively done is taken our one-dimensional $x$ values and projected them into a higher dimension, so that a linear fit can fit more complicated relationships between $x$ and $y$."
   ]
  },
  {
   "cell_type": "markdown",
   "metadata": {
    "deletable": true,
    "editable": true
   },
   "source": [
    "## Importar librerias\n",
    "Las siguientes lineas listan las librerias utilizadas en el desarrollo\n"
   ]
  },
  {
   "cell_type": "code",
   "execution_count": 145,
   "metadata": {
    "collapsed": true,
    "deletable": true,
    "editable": true
   },
   "outputs": [],
   "source": [
    "%matplotlib inline\n",
    "import matplotlib.pyplot as plt\n",
    "import seaborn as sns; sns.set()\n",
    "import numpy as np\n",
    "import pandas as pd\n",
    "import os\n",
    "import math\n",
    "import openpyxl\n",
    "from sklearn.linear_model import LinearRegression\n",
    "from sklearn.preprocessing import FunctionTransformer, PolynomialFeatures\n",
    "from sklearn.pipeline import Pipeline\n"
   ]
  },
  {
   "cell_type": "markdown",
   "metadata": {},
   "source": [
    "## Carga de datos \n",
    "Para este bloque de codigo se tomara información de archivos cvs o excel, el codigo esta preparado para la carga\n",
    "\n",
    "Parametros : Nombre del archivo y el tipo \n",
    "Retorna: Un Dataframe"
   ]
  },
  {
   "cell_type": "code",
   "execution_count": 130,
   "metadata": {
    "collapsed": false,
    "deletable": true,
    "editable": true
   },
   "outputs": [],
   "source": [
    "def Load_Data(File, tipo):\n",
    "    \"\"\"Carga un archivo CSV (tipo=1) o Excel (tipo!=1).\"\"\"\n",
    "    if tipo == 1:\n",
    "        return pd.read_csv(File, sep=';')\n",
    "    else:\n",
    "        return pd.read_excel(File)\n",
    "\n",
    "def Load_Data_FeatureTarget(Namex, Namey, File, tipo):\n",
    "    \"\"\"Carga datos y retorna X (Namex) y Y binarizada (>=10).\"\"\"\n",
    "    df = Load_Data(File, tipo)\n",
    "    print(\"Cargando datos de:\", File)\n",
    "\n",
    "    # Validar columnas\n",
    "    for col in Namex + [Namey]:\n",
    "        if col not in df.columns:\n",
    "            raise ValueError(f\"La columna '{col}' no existe en el archivo.\")\n",
    "\n",
    "    X = df[Namex]\n",
    "    y = (df[Namey] >= 10).astype(int)\n",
    "    return X, y"
   ]
  },
  {
   "cell_type": "markdown",
   "metadata": {},
   "source": [
    "## Construcción matematica de las funciones\n",
    "\n",
    "El siguiente espacio de codigo genera la formulacion matematica para las regresiones lineales basadas en funciones Power function, Sinusoidal, Gaussian\n",
    "Este codigo es generado con algoritmia y no hace uso de librerias de ML\n",
    "\n",
    "### Power Function -----> $ y = x^{n-1} $\n",
    "### Sinusoidal -----> $ y = sin((k-1)*wx) $\n",
    "### Gaussian -----> $ f(x) = a \\, e^{-\\frac{(x - b)^2}{2c^2}} $\n",
    "### Sigmoid function -----> $ S(x) = frac{1}{1 + e^{-x}} $"
   ]
  },
  {
   "cell_type": "code",
   "execution_count": 168,
   "metadata": {},
   "outputs": [],
   "source": [
    "#. Funcion de regresión lineal de polynomial\n",
    "def f_Potencia(x_n, c_k):\n",
    "    return x_n ** c_k -1\n",
    "\n",
    "# funciones de regresión lineal de Gaussianas\n",
    "def f_Gaussiana(x_n, c_k, sigma=0.1):\n",
    "    return math.exp(-((x_n - c_k) ** 2) / (2 * sigma ** 2))\n",
    "\n",
    "# función de regresión lineal sigmoide desplazada\n",
    "def f_Sigmoide(x_n, c_k):  \n",
    "    return 1 / (1 + math.exp(- (x_n - c_k)))    \n",
    "\n",
    "def call_function(func_name, x_base, x_train, y_train, K):\n",
    "   \n",
    "    # Diccionario de funciones disponibles\n",
    "    functions = {\n",
    "        'Potencia': f_Potencia,\n",
    "        'Gaussiana': f_Gaussiana,\n",
    "        'Sigmoide': f_Sigmoide\n",
    "    }\n",
    "    \n",
    "    if func_name not in functions:\n",
    "        raise ValueError(f\"La función '{func_name}' no está definida.\")\n",
    "    \n",
    "    func = functions[func_name]\n",
    "\n",
    "    # Si x es multidimensional, tomar solo una columna para la base\n",
    "    if x_train.ndim > 1 and x_train.shape[1] > 1:\n",
    "        x_train_1d = x_train[:, 0]\n",
    "        x_base_1d = x_base[:, 0]\n",
    "    else:\n",
    "        x_train_1d = x_train\n",
    "        x_base_1d = x_base\n",
    "\n",
    "    # Matriz Phi para entrenamiento\n",
    "    N = len(x_train_1d)\n",
    "    Phi = np.zeros((N, K))\n",
    "    for n in range(N):\n",
    "        for k in range(K):\n",
    "            Phi[n, k] = func(x_train_1d[n], k)\n",
    "    \n",
    "    # Calcular pesos con pseudoinversa\n",
    "    w = np.linalg.pinv(Phi) @ y_train\n",
    "\n",
    "    # Matriz Phi para predicción\n",
    "    N_test = len(x_base_1d)\n",
    "    Phi_base = np.zeros((N_test, K))\n",
    "    for n in range(N_test):\n",
    "        for k in range(K):\n",
    "            Phi_base[n, k] = func(x_base_1d[n], k)\n",
    "\n",
    "    yhat = Phi_base @ w\n",
    "    return yhat, w"
   ]
  },
  {
   "cell_type": "code",
   "execution_count": 166,
   "metadata": {},
   "outputs": [],
   "source": [
    "\n",
    "def potencia_transform(X, K=7):\n",
    "    \"\"\"Genera características tipo x^k - 1 para cada variable.\"\"\"\n",
    "    N, D = X.shape\n",
    "    features = []\n",
    "    for d in range(D):\n",
    "        for k in range(K):\n",
    "            features.append(X[:, d] ** k - 1)\n",
    "    return np.column_stack(features)\n",
    "\n",
    "def gaussiana_transform(X, K=7, sigma=0.1):\n",
    "    \"\"\"Genera características gaussianas exp(-((x - c)^2) / (2*sigma^2)).\"\"\"\n",
    "    N, D = X.shape\n",
    "    features = []\n",
    "    for d in range(D):\n",
    "        for k in range(K):\n",
    "            features.append(np.exp(-((X[:, d] - k) ** 2) / (2 * sigma ** 2)))\n",
    "    return np.column_stack(features)\n",
    "\n",
    "def sigmoide_transform(X, K=7):\n",
    "    \"\"\"Genera características sigmoides 1 / (1 + exp(-(x - c))).\"\"\"\n",
    "    N, D = X.shape\n",
    "    features = []\n",
    "    for d in range(D):\n",
    "        for k in range(K):\n",
    "            features.append(1 / (1 + np.exp(-(X[:, d] - k))))\n",
    "    return np.column_stack(features)\n"
   ]
  },
  {
   "cell_type": "markdown",
   "metadata": {},
   "source": [
    "### Metodo Principal sin sklearn\n",
    "##### Parametros \n",
    "File:  Nombre y ruta del archivo a procesas  ejemplo File =  'data/student-mat.csv'\n",
    "\n",
    "Namex:  Varible que contrendra el Feature.   Ejemplo NameX= 'studytime'\n",
    "\n",
    "Namey:  Variable que almacena el target  Ejemplo  Namey= 'G3'\n",
    "\n",
    "Listado de funciones implementadas \n",
    "\n",
    "function = 'Gaussiana'\n",
    "  functions = {\n",
    "        'Potencia': f_Potencia,\n",
    "        'Gaussiana': f_Gaussiana,\n",
    "        'Sigmoide': f_Sigmoide\n",
    "    }"
   ]
  },
  {
   "cell_type": "code",
   "execution_count": 169,
   "metadata": {},
   "outputs": [
    {
     "name": "stdout",
     "output_type": "stream",
     "text": [
      "Cargando datos de: data/student-mat.csv\n",
      "x_base: (395, 3)\n",
      "y_base: (395,)\n"
     ]
    },
    {
     "data": {
      "image/png": "[encoded data removed]",
      "text/plain": [
       "<Figure size 640x480 with 1 Axes>"
      ]
     },
     "metadata": {},
     "output_type": "display_data"
    }
   ],
   "source": [
    "if __name__ == \"__main__\":\n",
    "    File = \"data/student-mat.csv\"\n",
    "    #Namex = ['age', 'absences','traveltime',\t'studytime','failures','schoolsup','famsup','paid','activities','nursery','higher','internet','romantic']\n",
    "    Namex = ['age', 'absences','traveltime']\n",
    "    Namey = 'G3'\n",
    "    function = 'Potencia'  # Cambiar a 'Potencia' o 'Gaussiana' si se desea\n",
    "    K = 2\n",
    "    alpha = 0.7\n",
    "    # Cargar datos\n",
    "    x_base, y_base = Load_Data_FeatureTarget(Namex, Namey, File, 1)\n",
    "    print(f\"x_base: {x_base.shape}\")\n",
    "    print(f\"y_base: {y_base.shape}\")\n",
    "\n",
    "    # Convertir a numpy arrays\n",
    "    x_base = np.array(x_base)\n",
    "    y_base = np.array(y_base)\n",
    "\n",
    "    # Dividir en entrenamiento y prueba\n",
    "    idx = np.random.permutation(len(x_base))\n",
    "    train_size = round(alpha * len(x_base))\n",
    "    x_train = x_base[idx[:train_size]]\n",
    "    y_train = y_base[idx[:train_size]]\n",
    "    x_test = x_base[idx[train_size:]]\n",
    "    y_test = y_base[idx[train_size:]]\n",
    "\n",
    "    # Entrenar y predecir\n",
    "    yhattrain, wtrain = call_function(function, x_base, x_train, y_train, K)\n",
    "\n",
    "    # Graficar\n",
    "    plt.plot(x_base[:, 0], yhattrain, color='blue', label='Predicción')\n",
    "    plt.scatter(x_train[:, 0], y_train, color='orange', label='Entrenamiento')\n",
    "    plt.scatter(x_test[:, 0], y_test, color='green', label='Prueba')\n",
    "    plt.xlabel(Namex[2])\n",
    "    plt.ylabel(Namey)\n",
    "    plt.title('Predicciones vs Datos')\n",
    "    plt.legend()\n",
    "    plt.show()"
   ]
  },
  {
   "cell_type": "markdown",
   "metadata": {},
   "source": [
    "### Metodo Principal con sklearn\n",
    "##### Parametros \n",
    "File:  Nombre y ruta del archivo a procesas  ejemplo File =  'data/student-mat.csv'\n",
    "\n",
    "Namex:  Varible que contrendra el Feature.   Ejemplo NameX= 'studytime'\n",
    "\n",
    "Namey:  Variable que almacena el target  Ejemplo  Namey= 'G3'\n",
    "\n",
    "Listado de funciones implementadas \n",
    "\n",
    "function = 'Gaussiana'\n",
    "  functions = {\n",
    "        'Potencia': f_Potencia,\n",
    "        'Gaussiana': f_Gaussiana,\n",
    "        'Sigmoide': f_Sigmoide\n",
    "    }"
   ]
  },
  {
   "cell_type": "code",
   "execution_count": 170,
   "metadata": {},
   "outputs": [
    {
     "name": "stdout",
     "output_type": "stream",
     "text": [
      "Cargando datos de: data/student-mat.csv\n",
      "x_base: (395, 3)\n",
      "y_base: (395,)\n"
     ]
    },
    {
     "name": "stderr",
     "output_type": "stream",
     "text": [
      "/Users/carlosandresarroyaveoutlook.com/Library/Python/3.9/lib/python/site-packages/sklearn/linear_model/_base.py:279: RuntimeWarning: divide by zero encountered in matmul\n",
      "  return X @ coef_ + self.intercept_\n",
      "/Users/carlosandresarroyaveoutlook.com/Library/Python/3.9/lib/python/site-packages/sklearn/linear_model/_base.py:279: RuntimeWarning: overflow encountered in matmul\n",
      "  return X @ coef_ + self.intercept_\n",
      "/Users/carlosandresarroyaveoutlook.com/Library/Python/3.9/lib/python/site-packages/sklearn/linear_model/_base.py:279: RuntimeWarning: invalid value encountered in matmul\n",
      "  return X @ coef_ + self.intercept_\n"
     ]
    },
    {
     "data": {
      "image/png": "[encoded data removed]",
      "text/plain": [
       "<Figure size 640x480 with 1 Axes>"
      ]
     },
     "metadata": {},
     "output_type": "display_data"
    }
   ],
   "source": [
    "\n",
    "if __name__ == \"__main__\":\n",
    "    File = \"data/student-mat.csv\"\n",
    "    #Namex = ['age', 'absences','traveltime',\t'studytime','failures','schoolsup','famsup','paid','activities','nursery','higher','internet','romantic']\n",
    "    Namex = ['age', 'absences','traveltime']\n",
    "    Namey = 'G3'\n",
    "    function = 'Potencia'  # Cambiar a 'Potencia' o 'Gaussiana' si se desea\n",
    "    K = 2\n",
    "    alpha = 0.7\n",
    "    # Cargar datos\n",
    "    x_base, y_base = Load_Data_FeatureTarget(Namex, Namey, File, 1)\n",
    "    print(f\"x_base: {x_base.shape}\")\n",
    "    print(f\"y_base: {y_base.shape}\")\n",
    "\n",
    "    # Convertir a numpy arrays\n",
    "    x_base = np.array(x_base)\n",
    "    y_base = np.array(y_base)\n",
    "\n",
    "    # Dividir en entrenamiento y prueba\n",
    "    idx = np.random.permutation(len(x_base))\n",
    "    train_size = round(alpha * len(x_base))\n",
    "    x_train = x_base[idx[:train_size]]\n",
    "    y_train = y_base[idx[:train_size]]\n",
    "    x_test = x_base[idx[train_size:]]\n",
    "    y_test = y_base[idx[train_size:]]\n",
    "   \n",
    "\n",
    "    # Elegir transformador\n",
    "    if function == \"Potencia\":\n",
    "        transformer = FunctionTransformer(lambda x_base: potencia_transform(x_base, K), validate=False)\n",
    "    elif function == \"Gaussiana\":\n",
    "        transformer = FunctionTransformer(lambda x_base: gaussiana_transform(x_base, K), validate=False)\n",
    "    elif function == \"Sigmoide\":\n",
    "        transformer = FunctionTransformer(lambda x_base: sigmoide_transform(x_base, K), validate=True)\n",
    "    else:\n",
    "        raise ValueError(\"Función no reconocida\")\n",
    "\n",
    "    # Crear pipeline y entrenar\n",
    "    model = Pipeline([\n",
    "        (\"features\", transformer),\n",
    "        (\"regressor\", LinearRegression())\n",
    "    ])\n",
    "\n",
    "    model.fit(x_train, y_train)\n",
    "\n",
    "    # Predicción\n",
    "    y_pred_train = model.predict(x_train)\n",
    "    y_pred_test = model.predict(x_test)\n",
    "\n",
    "    # Gráfico (solo primera variable para visualización)\n",
    "    plt.scatter(x_train[:, 0], y_train, color='orange', label='Entrenamiento')\n",
    "    plt.scatter(x_test[:, 0], y_test, color='green', label='Prueba')\n",
    "    plt.scatter(x_train[:, 0], y_pred_train, color='blue', label='Predicción (Train)', alpha=0.6)\n",
    "    plt.xlabel(Namex[0])\n",
    "    plt.ylabel(Namey)\n",
    "    plt.title(f\"Regresión con función base {function}\")\n",
    "    plt.legend()\n",
    "    plt.show()"
   ]
  }
 ],
 "metadata": {
  "anaconda-cloud": {},
  "kernelspec": {
   "display_name": "Python 3",
   "language": "python",
   "name": "python3"
  },
  "language_info": {
   "codemirror_mode": {
    "name": "ipython",
    "version": 3
   },
   "file_extension": ".py",
   "mimetype": "text/x-python",
   "name": "python",
   "nbconvert_exporter": "python",
   "pygments_lexer": "ipython3",
   "version": "3.9.6"
  }
 },
 "nbformat": 4,
 "nbformat_minor": 0
}
